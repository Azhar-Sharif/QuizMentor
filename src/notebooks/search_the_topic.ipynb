{
  "cells": [
    {
      "cell_type": "code",
      "execution_count": 1,
      "metadata": {
        "colab": {
          "base_uri": "https://localhost:8080/"
        },
        "id": "Zyxapg9xIlOg",
        "outputId": "9017d672-77cd-4fac-d8d3-de96f999eaef"
      },
      "outputs": [
        {
          "name": "stdout",
          "output_type": "stream",
          "text": [
            "Requirement already satisfied: pinecone-client in c:\\users\\m.khan\\appdata\\local\\programs\\python\\python310\\lib\\site-packages (5.0.1)\n",
            "Requirement already satisfied: certifi>=2019.11.17 in c:\\users\\m.khan\\appdata\\local\\programs\\python\\python310\\lib\\site-packages (from pinecone-client) (2023.11.17)\n",
            "Collecting pinecone-plugin-inference<2.0.0,>=1.0.3 (from pinecone-client)\n",
            "  Downloading pinecone_plugin_inference-1.1.0-py3-none-any.whl.metadata (2.2 kB)\n",
            "Requirement already satisfied: pinecone-plugin-interface<0.0.8,>=0.0.7 in c:\\users\\m.khan\\appdata\\local\\programs\\python\\python310\\lib\\site-packages (from pinecone-client) (0.0.7)\n",
            "Requirement already satisfied: tqdm>=4.64.1 in c:\\users\\m.khan\\appdata\\local\\programs\\python\\python310\\lib\\site-packages (from pinecone-client) (4.66.4)\n",
            "Requirement already satisfied: typing-extensions>=3.7.4 in c:\\users\\m.khan\\appdata\\local\\programs\\python\\python310\\lib\\site-packages (from pinecone-client) (4.12.2)\n",
            "Requirement already satisfied: urllib3>=1.26.0 in c:\\users\\m.khan\\appdata\\local\\programs\\python\\python310\\lib\\site-packages (from pinecone-client) (2.1.0)\n",
            "Requirement already satisfied: colorama in c:\\users\\m.khan\\appdata\\local\\programs\\python\\python310\\lib\\site-packages (from tqdm>=4.64.1->pinecone-client) (0.4.6)\n",
            "Downloading pinecone_plugin_inference-1.1.0-py3-none-any.whl (85 kB)\n",
            "Installing collected packages: pinecone-plugin-inference\n",
            "  Attempting uninstall: pinecone-plugin-inference\n",
            "    Found existing installation: pinecone-plugin-inference 3.1.0\n",
            "    Uninstalling pinecone-plugin-inference-3.1.0:\n",
            "      Successfully uninstalled pinecone-plugin-inference-3.1.0\n",
            "Successfully installed pinecone-plugin-inference-1.1.0\n"
          ]
        },
        {
          "name": "stderr",
          "output_type": "stream",
          "text": [
            "ERROR: pip's dependency resolver does not currently take into account all the packages that are installed. This behaviour is the source of the following dependency conflicts.\n",
            "pinecone 5.4.2 requires pinecone-plugin-inference<4.0.0,>=2.0.0, but you have pinecone-plugin-inference 1.1.0 which is incompatible.\n"
          ]
        }
      ],
      "source": [
        "!pip install pinecone-client"
      ]
    },
    {
      "cell_type": "code",
      "execution_count": 10,
      "metadata": {
        "colab": {
          "base_uri": "https://localhost:8080/"
        },
        "id": "mzxp_2pAIZX2",
        "outputId": "32d81390-7b61-4518-dda1-6ca20086b8ec"
      },
      "outputs": [
        {
          "name": "stdout",
          "output_type": "stream",
          "text": [
            "Requirement already satisfied: sentence-transformers in c:\\users\\m.khan\\appdata\\local\\programs\\python\\python310\\lib\\site-packages (3.3.1)\n",
            "Requirement already satisfied: transformers<5.0.0,>=4.41.0 in c:\\users\\m.khan\\appdata\\local\\programs\\python\\python310\\lib\\site-packages (from sentence-transformers) (4.47.0)\n",
            "Requirement already satisfied: tqdm in c:\\users\\m.khan\\appdata\\local\\programs\\python\\python310\\lib\\site-packages (from sentence-transformers) (4.66.4)\n",
            "Requirement already satisfied: torch>=1.11.0 in c:\\users\\m.khan\\appdata\\local\\programs\\python\\python310\\lib\\site-packages (from sentence-transformers) (2.5.1+cpu)\n",
            "Requirement already satisfied: scikit-learn in c:\\users\\m.khan\\appdata\\local\\programs\\python\\python310\\lib\\site-packages (from sentence-transformers) (1.3.2)\n",
            "Requirement already satisfied: scipy in c:\\users\\m.khan\\appdata\\local\\programs\\python\\python310\\lib\\site-packages (from sentence-transformers) (1.11.4)\n",
            "Requirement already satisfied: huggingface-hub>=0.20.0 in c:\\users\\m.khan\\appdata\\local\\programs\\python\\python310\\lib\\site-packages (from sentence-transformers) (0.26.3)\n",
            "Requirement already satisfied: Pillow in c:\\users\\m.khan\\appdata\\local\\programs\\python\\python310\\lib\\site-packages (from sentence-transformers) (10.1.0)\n",
            "Requirement already satisfied: filelock in c:\\users\\m.khan\\appdata\\local\\programs\\python\\python310\\lib\\site-packages (from huggingface-hub>=0.20.0->sentence-transformers) (3.16.1)\n",
            "Requirement already satisfied: fsspec>=2023.5.0 in c:\\users\\m.khan\\appdata\\local\\programs\\python\\python310\\lib\\site-packages (from huggingface-hub>=0.20.0->sentence-transformers) (2024.10.0)\n",
            "Requirement already satisfied: packaging>=20.9 in c:\\users\\m.khan\\appdata\\local\\programs\\python\\python310\\lib\\site-packages (from huggingface-hub>=0.20.0->sentence-transformers) (23.2)\n",
            "Requirement already satisfied: pyyaml>=5.1 in c:\\users\\m.khan\\appdata\\local\\programs\\python\\python310\\lib\\site-packages (from huggingface-hub>=0.20.0->sentence-transformers) (6.0.1)\n",
            "Requirement already satisfied: requests in c:\\users\\m.khan\\appdata\\local\\programs\\python\\python310\\lib\\site-packages (from huggingface-hub>=0.20.0->sentence-transformers) (2.32.3)\n",
            "Requirement already satisfied: typing-extensions>=3.7.4.3 in c:\\users\\m.khan\\appdata\\local\\programs\\python\\python310\\lib\\site-packages (from huggingface-hub>=0.20.0->sentence-transformers) (4.12.2)\n",
            "Requirement already satisfied: networkx in c:\\users\\m.khan\\appdata\\local\\programs\\python\\python310\\lib\\site-packages (from torch>=1.11.0->sentence-transformers) (3.3)\n",
            "Requirement already satisfied: jinja2 in c:\\users\\m.khan\\appdata\\local\\programs\\python\\python310\\lib\\site-packages (from torch>=1.11.0->sentence-transformers) (3.1.4)\n",
            "Requirement already satisfied: sympy==1.13.1 in c:\\users\\m.khan\\appdata\\local\\programs\\python\\python310\\lib\\site-packages (from torch>=1.11.0->sentence-transformers) (1.13.1)\n",
            "Requirement already satisfied: mpmath<1.4,>=1.1.0 in c:\\users\\m.khan\\appdata\\local\\programs\\python\\python310\\lib\\site-packages (from sympy==1.13.1->torch>=1.11.0->sentence-transformers) (1.3.0)\n",
            "Requirement already satisfied: colorama in c:\\users\\m.khan\\appdata\\local\\programs\\python\\python310\\lib\\site-packages (from tqdm->sentence-transformers) (0.4.6)\n",
            "Requirement already satisfied: numpy>=1.17 in c:\\users\\m.khan\\appdata\\local\\programs\\python\\python310\\lib\\site-packages (from transformers<5.0.0,>=4.41.0->sentence-transformers) (1.26.2)\n",
            "Requirement already satisfied: regex!=2019.12.17 in c:\\users\\m.khan\\appdata\\local\\programs\\python\\python310\\lib\\site-packages (from transformers<5.0.0,>=4.41.0->sentence-transformers) (2024.11.6)\n",
            "Requirement already satisfied: tokenizers<0.22,>=0.21 in c:\\users\\m.khan\\appdata\\local\\programs\\python\\python310\\lib\\site-packages (from transformers<5.0.0,>=4.41.0->sentence-transformers) (0.21.0)\n",
            "Requirement already satisfied: safetensors>=0.4.1 in c:\\users\\m.khan\\appdata\\local\\programs\\python\\python310\\lib\\site-packages (from transformers<5.0.0,>=4.41.0->sentence-transformers) (0.4.5)\n",
            "Requirement already satisfied: joblib>=1.1.1 in c:\\users\\m.khan\\appdata\\local\\programs\\python\\python310\\lib\\site-packages (from scikit-learn->sentence-transformers) (1.3.2)\n",
            "Requirement already satisfied: threadpoolctl>=2.0.0 in c:\\users\\m.khan\\appdata\\local\\programs\\python\\python310\\lib\\site-packages (from scikit-learn->sentence-transformers) (3.2.0)\n",
            "Requirement already satisfied: MarkupSafe>=2.0 in c:\\users\\m.khan\\appdata\\local\\programs\\python\\python310\\lib\\site-packages (from jinja2->torch>=1.11.0->sentence-transformers) (2.1.3)\n",
            "Requirement already satisfied: charset-normalizer<4,>=2 in c:\\users\\m.khan\\appdata\\local\\programs\\python\\python310\\lib\\site-packages (from requests->huggingface-hub>=0.20.0->sentence-transformers) (3.3.2)\n",
            "Requirement already satisfied: idna<4,>=2.5 in c:\\users\\m.khan\\appdata\\local\\programs\\python\\python310\\lib\\site-packages (from requests->huggingface-hub>=0.20.0->sentence-transformers) (3.4)\n",
            "Requirement already satisfied: urllib3<3,>=1.21.1 in c:\\users\\m.khan\\appdata\\local\\programs\\python\\python310\\lib\\site-packages (from requests->huggingface-hub>=0.20.0->sentence-transformers) (2.1.0)\n",
            "Requirement already satisfied: certifi>=2017.4.17 in c:\\users\\m.khan\\appdata\\local\\programs\\python\\python310\\lib\\site-packages (from requests->huggingface-hub>=0.20.0->sentence-transformers) (2023.11.17)\n",
            "Note: you may need to restart the kernel to use updated packages.\n"
          ]
        }
      ],
      "source": [
        "pip install sentence-transformers"
      ]
    },
    {
      "cell_type": "code",
      "execution_count": 11,
      "metadata": {},
      "outputs": [],
      "source": [
        "from pinecone import Pinecone\n",
        "pc = Pinecone(api_key=\"pcsk_3CYnJi_TZbGr8CeCcVxAsz4Li7J5n5hNBRqM7PA7k6xGKx7ftNXUYMYUJLJcb3PZrTneH4\") # Replace with your actual API key\n"
      ]
    },
    {
      "cell_type": "code",
      "execution_count": 12,
      "metadata": {
        "colab": {
          "base_uri": "https://localhost:8080/"
        },
        "id": "ZFfc9N-UJa6Z",
        "outputId": "e296b402-db7b-48f1-8a70-a763aa00ddab"
      },
      "outputs": [
        {
          "name": "stdout",
          "output_type": "stream",
          "text": [
            "{'computer_organization': ['Digital Logic Number Representation', 'Computer Organization Architecture', 'Number Representation', 'Microprocessor'], 'operating_system': ['Memory Management', 'Input Output Systems', 'Cpu Scheduling', 'Unix', 'Dead Lock', 'Process Management']}\n",
            "Topics in namespace 'computer_organization':\n",
            "- Digital Logic Number Representation\n",
            "- Computer Organization Architecture\n",
            "- Number Representation\n",
            "- Microprocessor\n",
            "Topics in namespace 'operating_system':\n",
            "- Memory Management\n",
            "- Input Output Systems\n",
            "- Cpu Scheduling\n",
            "- Unix\n",
            "- Dead Lock\n",
            "- Process Management\n"
          ]
        }
      ],
      "source": [
        "def retrieve_topics_from_namespaces(index, namespaces):\n",
        "    \"\"\"\n",
        "    Retrieve topics from multiple namespaces and store them in separate lists.\n",
        "\n",
        "    :param index: Pinecone Index object.\n",
        "    :param namespaces: List of namespaces to query.\n",
        "    :return: A tuple containing two lists: one for topics in the first namespace and one for topics in the second namespace.\n",
        "    \"\"\"\n",
        "    topics_by_namespace = {}\n",
        "\n",
        "    for namespace in namespaces:\n",
        "        topics = set()  # Using set to avoid duplicate topics\n",
        "        try:\n",
        "            # Query with an empty vector to fetch all items in the namespace\n",
        "            response = index.query(vector=[0] * 768, namespace=namespace, top_k=1000, include_metadata=True)\n",
        "            # Extract topics from the metadata\n",
        "            for match in response[\"matches\"]:\n",
        "                metadata = match.get(\"metadata\", {})\n",
        "                if \"topic\" in metadata:\n",
        "                    topics.add(metadata[\"topic\"])\n",
        "        except Exception as e:\n",
        "            print(f\"Error retrieving metadata from namespace '{namespace}': {e}\")\n",
        "\n",
        "        # Store the topics for each namespace\n",
        "        topics_by_namespace[namespace] = list(topics)  # Convert set to list\n",
        "\n",
        "    return topics_by_namespace\n",
        "\n",
        "# Example usage:\n",
        "index_name = \"mcq-index\"\n",
        "index = pc.Index(index_name)\n",
        "\n",
        "# Specify the namespaces\n",
        "namespaces = [\"computer_organization\", \"operating_system\"]\n",
        "\n",
        "# Retrieve topics from both namespaces\n",
        "topics_by_namespace = retrieve_topics_from_namespaces(index, namespaces)\n",
        "print(topics_by_namespace)\n",
        "# Print topics for each namespace\n",
        "for namespace, topics in topics_by_namespace.items():\n",
        "    print(f\"Topics in namespace '{namespace}':\")\n",
        "    for topic in topics:\n",
        "        print(f\"- {topic}\")\n"
      ]
    },
    {
      "cell_type": "code",
      "execution_count": 23,
      "metadata": {},
      "outputs": [
        {
          "name": "stdout",
          "output_type": "stream",
          "text": [
            "Top 10 MCQs for 'number representation' across namespaces:\n",
            "Text: Number Representation-Question25\n",
            "Metadata: {'correct_option': 'C1CE0000', 'options': ['61CD0000', 'C1640000', 'C1CD0000', 'C1CE0000'], 'question_img_link': '', 'question_no': 'Question25', 'question_text': 'The value of a float type variable is represented using the single-precision 32-bit floating point format IEEE-754 standard that uses 1 bit for sign, 8 bits for biased exponent and 23 bits for mantissa. A float type variable X is assigned the decimal value of −25.75. The representation of X in hexadecimal notation is', 'topic': 'Number Representation'}\n",
            "Score: 0.406145632\n",
            "Namespace: computer_organization\n",
            "---\n",
            "Text: Number Representation-Question7\n",
            "Metadata: {'correct_option': 'C1640000H', 'options': ['C1640000H', '416C0000H', '41640000H', 'C16C0000H'], 'question_img_link': '', 'question_no': 'Question7', 'question_text': 'The value of a float type variable is represented using the single-precision 32-bit floating point format IEEE-754 standard that uses 1 bit for sign, 8 bits for biased exponent and 23 bits for mantissa. A float type variable X is assigned the decimal value of −14.25. The representation of X in hexadecimal notation is', 'topic': 'Number Representation'}\n",
            "Score: 0.404121846\n",
            "Namespace: computer_organization\n",
            "---\n",
            "Text: Number Representation-Question63\n",
            "Metadata: {'correct_option': '3.5', 'options': ['2.5', '3.0', '3.5', '4.5'], 'question_img_link': '', 'question_no': 'Question63', 'question_text': 'Which of the given number has its IEEE-754 32 bit floating point representation as 0 10000000 110 0000 0000 0000 0000 0000', 'topic': 'Number Representation'}\n",
            "Score: 0.397846907\n",
            "Namespace: computer_organization\n",
            "---\n",
            "Text: Digital Logic Number Representation-Question164\n",
            "Metadata: {'correct_option': '3.5', 'options': ['2.5', '3.0', '3.5', '4.5'], 'question_img_link': '', 'question_no': 'Question164', 'question_text': 'Which of the given number has its IEEE-754 32 bit floating point representation as 0 10000000 110 0000 0000 0000 0000 0000', 'topic': 'Digital Logic Number Representation'}\n",
            "Score: 0.397846907\n",
            "Namespace: computer_organization\n",
            "---\n",
            "Text: Number Representation-Question46\n",
            "Metadata: {'correct_option': '-26', 'options': ['-10', '-13', '-26', 'None of these'], 'question_img_link': '', 'question_no': 'Question46', 'question_text': 'The following bit pattern represents a floating point number in IEEE 754 single precision format\\r\\n\\r\\n1 10000011 101000000000000000000000\\r\\n\\r\\nThe value of the number in decimal form is', 'topic': 'Number Representation'}\n",
            "Score: 0.389651299\n",
            "Namespace: computer_organization\n",
            "---\n",
            "Text: Digital Logic Number Representation-Question100\n",
            "Metadata: {'correct_option': '-26', 'options': ['-10', '-13', '-26', 'None of these'], 'question_img_link': '', 'question_no': 'Question100', 'question_text': 'The following bit pattern represents a floating point number in IEEE 754 single precision format\\r\\n\\r\\n1 10000011 101000000000000000000000\\r\\n\\r\\nThe value of the number in decimal form is', 'topic': 'Digital Logic Number Representation'}\n",
            "Score: 0.389651269\n",
            "Namespace: computer_organization\n",
            "---\n",
            "Text: Digital Logic Number Representation-Question259\n",
            "Metadata: {'correct_option': 'exponent =00000001 and mantissa =0000000000000000000000000', 'options': ['exponent =00000000 and mantissa =0000000000000000000000000', 'exponent =00000000 and mantissa =0000000000000000000000001', 'exponent =00000001 and mantissa =0000000000000000000000000', 'exponent =00000001 and mantissa =0000000000000000000000001'], 'question_img_link': 'https://media.geeksforgeeks.org/wp-content/cdn-uploads/20210302143254/Capture2222.png', 'question_no': 'Question259', 'question_text': 'The format of the single-precision floating point representation of a real number as per the IEEE 754 standard is as follows:Which one of the following choices is correct with respect to the smallest normalized positive number represented using the standard?', 'topic': 'Digital Logic Number Representation'}\n",
            "Score: 0.379020631\n",
            "Namespace: computer_organization\n",
            "---\n",
            "Text: Number Representation-Question34\n",
            "Metadata: {'correct_option': '7', 'options': ['5', '6', '7', '8'], 'question_img_link': '', 'question_no': 'Question34', 'question_text': 'In the standard IEEE 754 single precision floating point representation, there is 1 bit for sign, 23 bits for fraction and 8 bits for exponent. What is the precision in terms of the number of decimal digits?', 'topic': 'Number Representation'}\n",
            "Score: 0.376695335\n",
            "Namespace: computer_organization\n",
            "---\n",
            "Text: Number Representation-Question87\n",
            "Metadata: {'correct_option': '15', 'options': ['15', '21', 'D2', '528'], 'question_img_link': '', 'question_no': 'Question87', 'question_text': 'Let the representation of a number in base 3 be 210. What is the hexadecimal representation of the number?', 'topic': 'Number Representation'}\n",
            "Score: 0.374975294\n",
            "Namespace: computer_organization\n",
            "---\n",
            "Text: Digital Logic Number Representation-Question257\n",
            "Metadata: {'correct_option': '15', 'options': ['15', '21', 'D2', '528'], 'question_img_link': '', 'question_no': 'Question257', 'question_text': 'Let the representation of a number in base 3 be 210. What is the hexadecimal representation of the number?', 'topic': 'Digital Logic Number Representation'}\n",
            "Score: 0.374975294\n",
            "Namespace: computer_organization\n",
            "---\n"
          ]
        }
      ],
      "source": [
        "# prompt: above is code is only giving result from one namespace i need best match of 10 \n",
        "\n",
        "from pinecone import Pinecone\n",
        "import pinecone\n",
        "from sentence_transformers import SentenceTransformer\n",
        "\n",
        "def retrieve_topics_from_namespaces(index, namespaces):\n",
        "    \"\"\"\n",
        "    Retrieve topics from multiple namespaces and store them in separate lists.\n",
        "\n",
        "    :param index: Pinecone Index object.\n",
        "    :param namespaces: List of namespaces to query.\n",
        "    :return: A tuple containing two lists: one for topics in the first namespace and one for topics in the second namespace.\n",
        "    \"\"\"\n",
        "    topics_by_namespace = {}\n",
        "\n",
        "    for namespace in namespaces:\n",
        "        topics = set()  # Using set to avoid duplicate topics\n",
        "        try:\n",
        "            # Query with an empty vector to fetch all items in the namespace\n",
        "            response = index.query(vector=[0] * 768, namespace=namespace, top_k=1000, include_metadata=True)\n",
        "            # Extract topics from the metadata\n",
        "            for match in response[\"matches\"]:\n",
        "                metadata = match.get(\"metadata\", {})\n",
        "                if \"topic\" in metadata:\n",
        "                    topics.add(metadata[\"topic\"])\n",
        "        except Exception as e:\n",
        "            print(f\"Error retrieving metadata from namespace '{namespace}': {e}\")\n",
        "\n",
        "        # Store the topics for each namespace\n",
        "        topics_by_namespace[namespace] = list(topics)  # Convert set to list\n",
        "\n",
        "    return topics_by_namespace\n",
        "\n",
        "def search_mcqs_by_query(index, query, namespaces, top_k=10):\n",
        "    \"\"\"\n",
        "    Searches for MCQs across multiple namespaces and returns the best matches.\n",
        "    \"\"\"\n",
        "    model = SentenceTransformer('all-mpnet-base-v2')\n",
        "    query_embedding = model.encode(query)\n",
        "    all_results = []\n",
        "\n",
        "    for namespace in namespaces:\n",
        "        try:\n",
        "            response = index.query(vector=query_embedding.tolist(), namespace=namespace, top_k=top_k, include_metadata=True)\n",
        "            for match in response[\"matches\"]:\n",
        "                all_results.append({\n",
        "                    \"text\": match[\"id\"],\n",
        "                    \"metadata\": match[\"metadata\"],\n",
        "                    \"score\": match[\"score\"],\n",
        "                    \"namespace\": namespace\n",
        "                })\n",
        "        except Exception as e:\n",
        "            print(f\"Error searching namespace '{namespace}': {e}\")\n",
        "\n",
        "    # Sort all results by score in descending order\n",
        "    all_results.sort(key=lambda x: x[\"score\"], reverse=True)\n",
        "    return all_results[:top_k]  # Return top_k best matches across all namespaces\n",
        "\n",
        "\n",
        "# Example usage\n",
        "pc = Pinecone(api_key=\"pcsk_3CYnJi_TZbGr8CeCcVxAsz4Li7J5n5hNBRqM7PA7k6xGKx7ftNXUYMYUJLJcb3PZrTneH4\", environment=\"us-west1-gcp\")\n",
        "index_name = \"mcq-index\"\n",
        "index = pc.Index(index_name)\n",
        "\n",
        "namespaces = [\"computer_organization\", \"operating_system\"]\n",
        "\n",
        "search_query = input(\"Enter your search query: \")\n",
        "mcq_results = search_mcqs_by_query(index, search_query, namespaces)\n",
        "\n",
        "\n",
        "if mcq_results:\n",
        "    print(f\"Top {len(mcq_results)} MCQs for '{search_query}' across namespaces:\")\n",
        "    for result in mcq_results:\n",
        "        print(f\"Text: {result['text']}\")\n",
        "        print(f\"Metadata: {result['metadata']}\")\n",
        "        print(f\"Score: {result['score']}\")\n",
        "        print(f\"Namespace: {result['namespace']}\")\n",
        "        print(\"---\")\n",
        "else:\n",
        "    print(f\"No MCQs found for '{search_query}'.\")"
      ]
    },
    {
      "cell_type": "code",
      "execution_count": null,
      "metadata": {},
      "outputs": [],
      "source": []
    }
  ],
  "metadata": {
    "colab": {
      "provenance": []
    },
    "kernelspec": {
      "display_name": "Python 3",
      "name": "python3"
    },
    "language_info": {
      "codemirror_mode": {
        "name": "ipython",
        "version": 3
      },
      "file_extension": ".py",
      "mimetype": "text/x-python",
      "name": "python",
      "nbconvert_exporter": "python",
      "pygments_lexer": "ipython3",
      "version": "3.10.7"
    }
  },
  "nbformat": 4,
  "nbformat_minor": 0
}
