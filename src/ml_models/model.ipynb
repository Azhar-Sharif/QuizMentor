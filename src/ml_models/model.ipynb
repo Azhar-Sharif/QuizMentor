{
 "cells": [
  {
   "cell_type": "code",
   "execution_count": 10,
   "metadata": {},
   "outputs": [],
   "source": [
    "import time\n",
    "from pinecone import Pinecone, ServerlessSpec\n",
    "from langchain_groq import ChatGroq\n"
   ]
  },
  {
   "cell_type": "code",
   "execution_count": 11,
   "metadata": {},
   "outputs": [],
   "source": [
    "# Initialize Pinecone\n",
    "def initialize_pinecone(api_key, environment):\n",
    "    return Pinecone(api_key=api_key, environment=environment)\n"
   ]
  },
  {
   "cell_type": "code",
   "execution_count": 12,
   "metadata": {},
   "outputs": [],
   "source": [
    "\n",
    "# Create or connect to a Pinecone index\n",
    "def create_or_connect_index(pc, index_name, dimension, metric, cloud, region):\n",
    "    if index_name not in pc.list_indexes().names():\n",
    "        pc.create_index(\n",
    "            name=index_name,\n",
    "            dimension=dimension,\n",
    "            metric=metric,\n",
    "            spec=ServerlessSpec(cloud=cloud, region=region)\n",
    "        )\n",
    "        print(f\"Index '{index_name}' created.\")\n",
    "    else:\n",
    "        print(f\"Index '{index_name}' already exists.\")\n",
    "    return pc.Index(index_name)\n",
    "\n",
    "# Wait for the index to be ready\n",
    "def wait_for_index_ready(pc, index_name):\n",
    "    while not pc.describe_index(index_name).status['ready']:\n",
    "        time.sleep(1)\n",
    "    print(f\"Index '{index_name}' is ready.\")\n",
    "\n"
   ]
  },
  {
   "cell_type": "code",
   "execution_count": 13,
   "metadata": {},
   "outputs": [],
   "source": [
    "# Upsert records into the Pinecone index\n",
    "def upsert_records(index, namespace, data, embeddings):\n",
    "    records = []\n",
    "    for d, e in zip(data, embeddings):\n",
    "        records.append({\n",
    "            \"id\": d[\"question\"],\n",
    "            \"values\": e[\"values\"],\n",
    "            \"metadata\": {\"text\": d[\"question_paragraph\"]}\n",
    "        })\n",
    "    index.upsert(vectors=records, namespace=namespace)\n",
    "    print(f\"Upserted {len(records)} records into namespace '{namespace}'.\")\n"
   ]
  },
  {
   "cell_type": "code",
   "execution_count": 14,
   "metadata": {},
   "outputs": [],
   "source": [
    "# Query Pinecone for relevant contexts\n",
    "def query_pinecone(index, namespace, query_embedding, top_k=6):\n",
    "    results = index.query(\n",
    "        namespace=namespace,\n",
    "        vector=query_embedding[0].values,\n",
    "        top_k=top_k,\n",
    "        include_metadata=True\n",
    "    )\n",
    "    return results\n"
   ]
  },
  {
   "cell_type": "code",
   "execution_count": 15,
   "metadata": {},
   "outputs": [],
   "source": [
    "# Generate embeddings using Pinecone inference\n",
    "def generate_embeddings(pc, model, inputs, input_type):\n",
    "    return pc.inference.embed(\n",
    "        model=model,\n",
    "        inputs=inputs,\n",
    "        parameters={\"input_type\": input_type, \"truncate\": \"END\"}\n",
    "    )"
   ]
  },
  {
   "cell_type": "code",
   "execution_count": 16,
   "metadata": {},
   "outputs": [],
   "source": [
    "# Use ChatGroq to generate a quiz\n",
    "def generate_quiz_with_groq(llm, retrieved_context):\n",
    "    groq_prompt = f\"\"\"\n",
    "    Based on the following context, create a quiz with 10 multiple-choice questions:\n",
    "    {retrieved_context}\n",
    "    \"\"\"\n",
    "    response = llm.invoke(groq_prompt)\n",
    "    return response.content\n"
   ]
  },
  {
   "cell_type": "code",
   "execution_count": 17,
   "metadata": {},
   "outputs": [
    {
     "name": "stdout",
     "output_type": "stream",
     "text": [
      "Deleted index: mcq-index\n",
      "All indexes deleted.\n"
     ]
    }
   ],
   "source": [
    "# Main workflow\n",
    "def main():\n",
    "    # Initialize Pinecone\n",
    "    pc = initialize_pinecone(\n",
    "        api_key=\"pcsk_3CYnJi_TZbGr8CeCcVxAsz4Li7J5n5hNBRqM7PA7k6xGKx7ftNXUYMYUJLJcb3PZrTneH4\",\n",
    "        environment=\"us-west1-gcp\"\n",
    "    )\n",
    "\n",
    "\n",
    "    # Use ChatGroq to generate the quiz\n",
    "    llm = ChatGroq(\n",
    "        temperature=0,\n",
    "        groq_api_key=\"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\",\n",
    "        model_name=\"llama-3.1-70b-versatile\"\n",
    "    )\n",
    "    # Define parameters\n",
    "    index_name = \"quiz-index\"\n",
    "    namespace = \"example-namespace\"\n",
    "    model_name = \"multilingual-e5-large\"\n",
    "    data = [\n",
    "        {\"question\": \"Q1\", \"question_paragraph\": \"What is regression?\"},\n",
    "        {\"question\": \"Q2\", \"question_paragraph\": \"Explain linear regression.\"}\n",
    "    ]\n",
    "    query = \"Explain regression.\"\n",
    "\n",
    "    # Create or connect to the index\n",
    "    #index = create_or_connect_index(\n",
    "    #    pc, index_name, dimension=1024, metric=\"cosine\", cloud=\"aws\", region=\"us-east-1\"\n",
    "    #)\n",
    "\n",
    "    # Wait for the index to be ready\n",
    "    #wait_for_index_ready(pc, index_name)\n",
    "\n",
    "    # Generate embeddings for the data\n",
    "    #embeddings = generate_embeddings(\n",
    "    #    pc, model=model_name,\n",
    "    #    inputs=[d[\"question_paragraph\"] for d in data],\n",
    "    #    input_type=\"passage\"\n",
    "    #)\n",
    "\n",
    "    # Upsert records into the index\n",
    "    #upsert_records(index, namespace, data, embeddings)\n",
    "\n",
    "    # Generate embedding for the query\n",
    "    #query_embedding = generate_embeddings(pc, model=model_name, inputs=[query], input_type=\"query\")\n",
    "\n",
    "    # Query the Pinecone index\n",
    "    #results = query_pinecone(index, namespace, query_embedding)\n",
    "    # Retrieve the context\n",
    "    #retrieved_context = \"\\n\".join([match[\"metadata\"][\"text\"] for match in results[\"matches\"]])\n",
    "    #print(\"Retrieved Context:\", retrieved_context)\n",
    "\n",
    "    \n",
    "    #quiz = generate_quiz_with_groq(llm, retrieved_context)\n",
    "    #print(\"Generated Quiz:\", quiz)\n",
    "    def delete_all_indexes(pc):\n",
    "        all_indexes = pc.list_indexes().names()\n",
    "        for index_name in all_indexes:\n",
    "            pc.delete_index(index_name)\n",
    "            print(f\"Deleted index: {index_name}\")\n",
    "        print(\"All indexes deleted.\")\n",
    "    delete_all_indexes(pc)\n",
    "    # Optional: Delete all indexes after testing\n",
    "    # delete_all_indexes(pc)\n",
    "\n",
    "if __name__ == \"__main__\":\n",
    "    main()\n"
   ]
  },
  {
   "cell_type": "code",
   "execution_count": null,
   "metadata": {},
   "outputs": [],
   "source": []
  },
  {
   "cell_type": "code",
   "execution_count": null,
   "metadata": {},
   "outputs": [],
   "source": []
  }
 ],
 "metadata": {
  "kernelspec": {
   "display_name": "Python 3",
   "language": "python",
   "name": "python3"
  },
  "language_info": {
   "codemirror_mode": {
    "name": "ipython",
    "version": 3
   },
   "file_extension": ".py",
   "mimetype": "text/x-python",
   "name": "python",
   "nbconvert_exporter": "python",
   "pygments_lexer": "ipython3",
   "version": "3.8.2"
  }
 },
 "nbformat": 4,
 "nbformat_minor": 2
}
