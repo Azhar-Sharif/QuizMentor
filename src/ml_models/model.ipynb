{
 "cells": [
  {
   "cell_type": "code",
   "execution_count": 3,
   "metadata": {},
   "outputs": [
    {
     "name": "stderr",
     "output_type": "stream",
     "text": [
      "c:\\Users\\Kashif\\AppData\\Local\\Programs\\Python\\Python310\\lib\\site-packages\\pinecone\\data\\index.py:1: TqdmWarning: IProgress not found. Please update jupyter and ipywidgets. See https://ipywidgets.readthedocs.io/en/stable/user_install.html\n",
      "  from tqdm.autonotebook import tqdm\n"
     ]
    }
   ],
   "source": [
    "import time\n",
    "from pinecone import Pinecone, ServerlessSpec\n",
    "from langchain_groq import ChatGroq\n"
   ]
  },
  {
   "cell_type": "code",
   "execution_count": 4,
   "metadata": {},
   "outputs": [],
   "source": [
    "# Initialize Pinecone\n",
    "def initialize_pinecone(api_key, environment):\n",
    "    return Pinecone(api_key=api_key, environment=environment)\n"
   ]
  },
  {
   "cell_type": "code",
   "execution_count": 5,
   "metadata": {},
   "outputs": [],
   "source": [
    "# Query Pinecone for relevant contexts\n",
    "def query_pinecone(index, namespace, query_embedding, top_k=6):\n",
    "    results = index.query(\n",
    "        namespace=namespace,\n",
    "        vector=query_embedding[0].values,\n",
    "        top_k=top_k,\n",
    "        include_metadata=True\n",
    "    )\n",
    "    return results\n"
   ]
  },
  {
   "cell_type": "code",
   "execution_count": 6,
   "metadata": {},
   "outputs": [],
   "source": [
    "# Generate embeddings using Pinecone inference\n",
    "def generate_embeddings(pc, model, inputs, input_type):\n",
    "    return pc.inference.embed(\n",
    "        model=model,\n",
    "        inputs=inputs,\n",
    "        parameters={\"input_type\": input_type, \"truncate\": \"END\"}\n",
    "    )"
   ]
  },
  {
   "cell_type": "code",
   "execution_count": 7,
   "metadata": {},
   "outputs": [],
   "source": [
    "# Use ChatGroq to generate a quiz\n",
    "def generate_quiz_with_groq(llm, retrieved_context):\n",
    "    groq_prompt = f\"\"\"\n",
    "    Based on the following context, create a quiz with 10 multiple-choice questions:\n",
    "    {retrieved_context}\n",
    "    \"\"\"\n",
    "    response = llm.invoke(groq_prompt)\n",
    "    return response.content\n"
   ]
  },
  {
   "cell_type": "code",
   "execution_count": null,
   "metadata": {},
   "outputs": [
    {
     "name": "stdout",
     "output_type": "stream",
     "text": [
      "['mcq-index']\n"
     ]
    }
   ],
   "source": [
    "# Main workflow\n",
    "def main():\n",
    "    # Initialize Pinecone\n",
    "    pc = initialize_pinecone(\n",
    "        api_key=\"pcsk_3CYnJi_TZbGr8CeCcVxAsz4Li7J5n5hNBRqM7PA7k6xGKx7ftNXUYMYUJLJcb3PZrTneH4\",\n",
    "        environment=\"us-west1-gcp\"\n",
    "    )\n",
    "\n",
    "\n",
    "    # Use ChatGroq to generate the quiz\n",
    "    llm = ChatGroq(\n",
    "        temperature=0,\n",
    "        groq_api_key=\"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\",\n",
    "        model_name=\"llama-3.1-70b-versatile\"\n",
    "    )\n",
    "    \n",
    "    query = \"Explain regression.\"\n",
    "\n",
    "\n",
    "    # Generate embedding for the query\n",
    "    #query_embedding = generate_embeddings(pc, model=model_name, inputs=[query], input_type=\"query\")\n",
    "\n",
    "    # Query the Pinecone index\n",
    "    #results = query_pinecone(index, namespace, query_embedding)\n",
    "    # Retrieve the context\n",
    "    #retrieved_context = \"\\n\".join([match[\"metadata\"][\"text\"] for match in results[\"matches\"]])\n",
    "    #print(\"Retrieved Context:\", retrieved_context)\n",
    "\n",
    "    \n",
    "    #quiz = generate_quiz_with_groq(llm, retrieved_context)\n",
    "    #print(\"Generated Quiz:\", quiz)\n",
    "    #def delete_all_indexes(pc):\n",
    "    all_indexes = pc.list_indexes().names()\n",
    "    print(all_indexes)\n",
    "\n",
    "if __name__ == \"__main__\":\n",
    "    main()\n"
   ]
  },
  {
   "cell_type": "code",
   "execution_count": null,
   "metadata": {},
   "outputs": [],
   "source": []
  },
  {
   "cell_type": "code",
   "execution_count": null,
   "metadata": {},
   "outputs": [],
   "source": []
  }
 ],
 "metadata": {
  "kernelspec": {
   "display_name": "Python 3",
   "language": "python",
   "name": "python3"
  },
  "language_info": {
   "codemirror_mode": {
    "name": "ipython",
    "version": 3
   },
   "file_extension": ".py",
   "mimetype": "text/x-python",
   "name": "python",
   "nbconvert_exporter": "python",
   "pygments_lexer": "ipython3",
   "version": "3.10.2"
  }
 },
 "nbformat": 4,
 "nbformat_minor": 2
}
