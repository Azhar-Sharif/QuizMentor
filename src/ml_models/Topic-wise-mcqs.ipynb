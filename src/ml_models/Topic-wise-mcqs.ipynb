{
  "cells": [
    {
      "cell_type": "code",
      "execution_count": 41,
      "metadata": {
        "id": "Si1LgdIBSV-h"
      },
      "outputs": [],
      "source": [
        "import time\n",
        "from pinecone import Pinecone, ServerlessSpec\n",
        "from langchain_groq import ChatGroq\n"
      ]
    },
    {
      "cell_type": "code",
      "execution_count": 42,
      "metadata": {
        "id": "Vqz-f-zHSV-i"
      },
      "outputs": [],
      "source": [
        "# Initialize Pinecone\n",
        "def initialize_pinecone(api_key, environment):\n",
        "    return Pinecone(api_key=api_key, environment=environment)\n"
      ]
    },
    {
      "cell_type": "code",
      "execution_count": 43,
      "metadata": {
        "id": "_XUtF20aSV-k"
      },
      "outputs": [],
      "source": [
        "# Initialize Pinecone Index\n",
        "pinecone_api_key = \"pcsk_3CYnJi_TZbGr8CeCcVxAsz4Li7J5n5hNBRqM7PA7k6xGKx7ftNXUYMYUJLJcb3PZrTneH4\"\n",
        "pinecone_environment = \"us-west1-gcp\"\n",
        "pc = initialize_pinecone(api_key=pinecone_api_key, environment=pinecone_environment)"
      ]
    },
    {
      "cell_type": "markdown",
      "metadata": {
        "id": "yjBIjYZgSV-l"
      },
      "source": [
        "### Code To retrieve all Subjects Topics"
      ]
    },
    {
      "cell_type": "code",
      "execution_count": 44,
      "metadata": {
        "colab": {
          "base_uri": "https://localhost:8080/"
        },
        "id": "DmRFYdEuSV-m",
        "outputId": "3aad1e6c-0bd8-40f4-e370-2f1a091b3ecf"
      },
      "outputs": [
        {
          "name": "stdout",
          "output_type": "stream",
          "text": [
            "{'computer_organization': ['Computer Organization Architecture', 'Number Representation', 'Microprocessor', 'Digital Logic Number Representation'], 'operating_system': ['Process Management', 'Unix', 'Cpu Scheduling', 'Memory Management', 'Input Output Systems', 'Dead Lock']}\n",
            "Topics in namespace 'computer_organization':\n",
            "- Computer Organization Architecture\n",
            "- Number Representation\n",
            "- Microprocessor\n",
            "- Digital Logic Number Representation\n",
            "Topics in namespace 'operating_system':\n",
            "- Process Management\n",
            "- Unix\n",
            "- Cpu Scheduling\n",
            "- Memory Management\n",
            "- Input Output Systems\n",
            "- Dead Lock\n"
          ]
        }
      ],
      "source": [
        "def retrieve_topics_from_namespaces(index, namespaces):\n",
        "    \"\"\"\n",
        "    Retrieve topics from multiple namespaces and store them in separate lists.\n",
        "\n",
        "    :param index: Pinecone Index object.\n",
        "    :param namespaces: List of namespaces to query.\n",
        "    :return: A tuple containing two lists: one for topics in the first namespace and one for topics in the second namespace.\n",
        "    \"\"\"\n",
        "    topics_by_namespace = {}\n",
        "\n",
        "    for namespace in namespaces:\n",
        "        topics = set()  # Using set to avoid duplicate topics\n",
        "        try:\n",
        "            # Query with an empty vector to fetch all items in the namespace\n",
        "            response = index.query(vector=[0] * 768, namespace=namespace, top_k=1000, include_metadata=True)\n",
        "            # Extract topics from the metadata\n",
        "            for match in response[\"matches\"]:\n",
        "                metadata = match.get(\"metadata\", {})\n",
        "                if \"topic\" in metadata:\n",
        "                    topics.add(metadata[\"topic\"])\n",
        "        except Exception as e:\n",
        "            print(f\"Error retrieving metadata from namespace '{namespace}': {e}\")\n",
        "\n",
        "        # Store the topics for each namespace\n",
        "        topics_by_namespace[namespace] = list(topics)  # Convert set to list\n",
        "\n",
        "    return topics_by_namespace\n",
        "\n",
        "# Example usage:\n",
        "index_name = \"mcq-index\"\n",
        "index = pc.Index(index_name)\n",
        "\n",
        "# Specify the namespaces\n",
        "namespaces = [\"computer_organization\", \"operating_system\"]\n",
        "\n",
        "# Retrieve topics from both namespaces\n",
        "topics_by_namespace = retrieve_topics_from_namespaces(index, namespaces)\n",
        "print(topics_by_namespace)\n",
        "# Print topics for each namespace\n",
        "for namespace, topics in topics_by_namespace.items():\n",
        "    print(f\"Topics in namespace '{namespace}':\")\n",
        "    for topic in topics:\n",
        "        print(f\"- {topic}\")\n"
      ]
    },
    {
      "cell_type": "code",
      "execution_count": 45,
      "metadata": {
        "colab": {
          "base_uri": "https://localhost:8080/"
        },
        "id": "_DeJAp9qU3uP",
        "outputId": "29c2e6f8-0bbf-48de-9167-87646e0e736d"
      },
      "outputs": [
        {
          "name": "stdout",
          "output_type": "stream",
          "text": [
            "Query identified the topic: Process Management\n",
            "Error retrieving MCQs for topic 'Process Management': (400)\n",
            "Reason: Bad Request\n",
            "HTTP response headers: HTTPHeaderDict({'Date': 'Tue, 31 Dec 2024 20:58:44 GMT', 'Content-Type': 'text/plain', 'Content-Length': '50', 'Connection': 'keep-alive', 'server': 'envoy'})\n",
            "HTTP response body: : Proto field is not repeating, cannot start list.\n",
            "\n",
            "No MCQs found for topic 'Process Management'.\n"
          ]
        }
      ],
      "source": [
        "import numpy as np\n",
        "from sentence_transformers import SentenceTransformer\n",
        "from sklearn.metrics.pairwise import cosine_similarity\n",
        "\n",
        "\n",
        "# Initialize the embedding model\n",
        "embedding_model = SentenceTransformer(\"multi-qa-mpnet-base-dot-v1\")\n",
        "\n",
        "# Example list of topics from metadata (this would be the extracted topics for both namespaces)\n",
        "extracted_topics_computer_organization = ['Microprocessor', 'Computer Organization Architecture', 'Digital Logic Number Representation',\n",
        "                                          'Number Representation', 'Dead Lock', 'Cpu Scheduling']\n",
        "extracted_topics_operating_system = ['Unix', 'Process Management', 'Memory Management', 'Input Output Systems']\n",
        "\n",
        "# Function to extract the most relevant topic based on semantic similarity\n",
        "def extract_topic_from_query(query, topics, model):\n",
        "    # Encode the query and topics using the embedding model\n",
        "    query_embedding = model.encode([query])[0]\n",
        "    topic_embeddings = model.encode(topics)\n",
        "\n",
        "    # Compute cosine similarity between the query and each topic\n",
        "    similarities = cosine_similarity([query_embedding], topic_embeddings)[0]\n",
        "\n",
        "    # Get the index of the most similar topic\n",
        "    most_similar_index = np.argmax(similarities)\n",
        "\n",
        "    # Return the most similar topic\n",
        "    return topics[most_similar_index]\n",
        "\n",
        "# Function to retrieve MCQs based on the topic and question range from Pinecone metadata\n",
        "def get_mcqs_by_topic(index, topic, namespaces, question_range=None):\n",
        "    try:\n",
        "        # Prepare filters based on query restrictions\n",
        "        filter_conditions = {\"topic\": topic}\n",
        "        # Query Pinecone to get all records for the given topic with the additional conditions\n",
        "        query_response = index.query(\n",
        "            vector=[0] * 768,  # Querying with a zero vector (this part is a placeholder for the search vector)\n",
        "            filter=filter_conditions,  # Apply the filter based on topic and additional conditions\n",
        "            top_k=100,  # Number of MCQs to retrieve (adjust as needed)\n",
        "            namespace=namespaces,  # Search across both namespaces\n",
        "            include_metadata=True\n",
        "        )\n",
        "\n",
        "        # Extract and return the MCQs for the given topic\n",
        "        mcqs = []\n",
        "        for match in query_response['matches']:\n",
        "            mcqs.append(match['metadata'])\n",
        "\n",
        "        return mcqs\n",
        "\n",
        "    except Exception as e:\n",
        "        print(f\"Error retrieving MCQs for topic '{topic}': {e}\")\n",
        "        return []\n",
        "\n",
        "# Function to handle queries and get MCQs\n",
        "def handle_query(query, topics_computer_organization, topics_operating_system, index, namespaces, model, question_range=None):\n",
        "    # Combine topics from both namespaces\n",
        "    topics = topics_computer_organization + topics_operating_system\n",
        "\n",
        "    # Extract the most relevant topic from the query based on the combined list\n",
        "    topic = extract_topic_from_query(query, topics, model)\n",
        "\n",
        "    if topic:\n",
        "        print(f\"Query identified the topic: {topic}\")\n",
        "\n",
        "        # Get MCQs associated with the extracted topic and additional restrictions (if any)\n",
        "        mcqs_for_topic = get_mcqs_by_topic(index, topic, namespaces, question_range)\n",
        "\n",
        "        if mcqs_for_topic:\n",
        "            # Print the MCQs\n",
        "            print(f\"MCQs for topic '{topic}':\")\n",
        "            for mcq in mcqs_for_topic:\n",
        "                print(f\"Question No: {mcq['question_no']}\")\n",
        "                print(f\"Question: {mcq['question_text']}\")\n",
        "                print(f\"Options: {', '.join(mcq['options'])}\")\n",
        "                print(f\"Correct Option: {mcq['correct_option']}\")\n",
        "                print(f\"Image Link: {mcq['question_img_link']}\")\n",
        "                print(\"-\" * 50)\n",
        "        else:\n",
        "            print(f\"No MCQs found for topic '{topic}'.\")\n",
        "    else:\n",
        "        print(f\"No relevant topic found in the query.\")\n",
        "\n",
        "# Example usage\n",
        "query = \"Tell me about the Process Management topic, but I want questions 1 to 10\"\n",
        "namespaces = [\"computer_organization\", \"operating_system\"]  # Search across both namespaces\n",
        "index = pc.Index(\"mcq-index\")  # Assuming `pc` is initialized and connected\n",
        "\n",
        "# Define query restrictions (if any)\n",
        "question_range = (1, 10)  # Example: Retrieve questions from 1 to 10\n",
        "\n",
        "# Handle the query and get MCQs for the identified topic with restrictions\n",
        "handle_query(query, extracted_topics_computer_organization, extracted_topics_operating_system, index, namespaces, embedding_model, question_range)\n"
      ]
    },
    {
      "cell_type": "code",
      "execution_count": 39,
      "metadata": {
        "id": "AH3va3YFeCUI"
      },
      "outputs": [],
      "source": []
    }
  ],
  "metadata": {
    "accelerator": "GPU",
    "colab": {
      "gpuType": "T4",
      "provenance": []
    },
    "kernelspec": {
      "display_name": "Python 3",
      "name": "python3"
    },
    "language_info": {
      "codemirror_mode": {
        "name": "ipython",
        "version": 3
      },
      "file_extension": ".py",
      "mimetype": "text/x-python",
      "name": "python",
      "nbconvert_exporter": "python",
      "pygments_lexer": "ipython3",
      "version": "3.10.2"
    }
  },
  "nbformat": 4,
  "nbformat_minor": 0
}
