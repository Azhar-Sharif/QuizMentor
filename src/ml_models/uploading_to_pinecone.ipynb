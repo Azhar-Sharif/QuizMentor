{
 "cells": [
  {
   "cell_type": "code",
   "execution_count": null,
   "metadata": {},
   "outputs": [],
   "source": [
    "import os\n",
    "import json\n",
    "from sentence_transformers import SentenceTransformer\n",
    "from pinecone import Pinecone, ServerlessSpec\n",
    "from langchain_groq import ChatGroq\n",
    "\n"
   ]
  },
  {
   "cell_type": "code",
   "execution_count": 2,
   "metadata": {},
   "outputs": [],
   "source": [
    "# Initialize Pinecone\n",
    "def initialize_pinecone(api_key, environment):\n",
    "    return Pinecone(api_key=api_key, environment=environment)\n"
   ]
  },
  {
   "cell_type": "code",
   "execution_count": 3,
   "metadata": {},
   "outputs": [],
   "source": [
    "# Create or connect to a Pinecone index\n",
    "def create_or_connect_index(pc, index_name, dimension, metric, cloud, region):\n",
    "    if index_name not in pc.list_indexes().names():\n",
    "        pc.create_index(\n",
    "            name=index_name,\n",
    "            dimension=dimension,\n",
    "            metric=metric,\n",
    "            spec=ServerlessSpec(cloud=cloud, region=region)\n",
    "        )\n",
    "        print(f\"Index '{index_name}' created.\")\n",
    "    else:\n",
    "        print(f\"Index '{index_name}' already exists.\")\n",
    "    return pc.Index(index_name)\n"
   ]
  },
  {
   "cell_type": "code",
   "execution_count": 4,
   "metadata": {},
   "outputs": [],
   "source": [
    "# Generate embeddings using Sentence Transformers\n",
    "def generate_embeddings(model, inputs):\n",
    "    \"\"\"\n",
    "    Generate embeddings using the multi-qa-mpnet-base-dot-v1 model.\n",
    "    :param model: The Sentence Transformer model.\n",
    "    :param inputs: List of input texts.\n",
    "    :return: List of embeddings.\n",
    "    \"\"\"\n",
    "    embeddings = model.encode(inputs, convert_to_tensor=False)\n",
    "    return [{\"values\": embedding.tolist()} for embedding in embeddings]"
   ]
  },
  {
   "cell_type": "code",
   "execution_count": 5,
   "metadata": {},
   "outputs": [],
   "source": [
    "# Upload a single file to Pinecone\n",
    "def upload_file_to_pinecone(file_path, index, pc, model, namespace):\n",
    "    with open(file_path, \"r\", encoding=\"utf-8\") as file:\n",
    "        data = json.load(file)\n",
    "\n",
    "    # Generate embeddings for question_text\n",
    "    inputs = [question[\"question_text\"] for question in data]\n",
    "    embeddings = generate_embeddings(model, inputs)\n",
    "\n",
    "    # Prepare records for Pinecone\n",
    "    records = []\n",
    "    for question, embedding in zip(data, embeddings):\n",
    "        question_img_link = question.get(\"question_img_link\")\n",
    "        if question_img_link is None:\n",
    "            question_img_link = \"\" \n",
    "        record = {\n",
    "            \"id\": f\"{question['topic']}-{question['question_no']}\",\n",
    "            \"values\": embedding[\"values\"],\n",
    "            \"metadata\": {\n",
    "                \"topic\": question[\"topic\"],\n",
    "                \"question_no\": question[\"question_no\"],\n",
    "                \"question_text\": question[\"question_text\"],\n",
    "                \"question_img_link\": question_img_link, \n",
    "                \"options\": question[\"options\"],\n",
    "                \"correct_option\": question[\"correct_option\"]\n",
    "            }\n",
    "        }\n",
    "        records.append(record)\n",
    "\n",
    "    # Upsert records into Pinecone\n",
    "    index.upsert(vectors=records, namespace=namespace)\n",
    "    print(f\"Uploaded {len(records)} records from {file_path} to namespace '{namespace}'.\")\n",
    "\n",
    "# Upload all files in a directory to Pinecone\n",
    "def bulk_upload_to_pinecone(directory, namespace, index, pc, model):\n",
    "    for filename in os.listdir(directory):\n",
    "        if filename.endswith(\".json\"):\n",
    "            file_path = os.path.join(directory, filename)\n",
    "            upload_file_to_pinecone(file_path, index, pc, model, namespace)\n"
   ]
  },
  {
   "cell_type": "code",
   "execution_count": null,
   "metadata": {},
   "outputs": [],
   "source": [
    "\n",
    "# Main function\n",
    "def main():\n",
    "    # Pinecone credentials\n",
    "    pinecone_api_key = \"pcsk_3CYnJi_TZbGr8CeCcVxAsz4Li7J5n5hNBRqM7PA7k6xGKx7ftNXUYMYUJLJcb3PZrTneH4\"\n",
    "    pinecone_environment = \"us-west1-gcp\"\n",
    "    index_name = \"mcq-index\"\n",
    "    embedding_model_name = \"multi-qa-mpnet-base-dot-v1\"\n",
    "    embedding_dimension = 768  # Dimension for the selected model\n",
    "\n",
    "    # Subject directories and namespaces\n",
    "    subject_dirs = {\n",
    "        \"computer_organization\": \"QuizMentor\\data_for_vectordb\\Final_Coal_mcqs_data\",  # Replace with actual path\n",
    "        \"operating_system\": \"QuizMentor\\data_for_vectordb\\Final_OS_mcqs_data\"  # Replace with actual path\n",
    "    }\n",
    "\n",
    "    # Initialize Pinecone\n",
    "    pc = initialize_pinecone(api_key=pinecone_api_key, environment=pinecone_environment)\n",
    "\n",
    "    # Create or connect to the Pinecone index\n",
    "    index = create_or_connect_index(\n",
    "        pc=pc,\n",
    "        index_name=index_name,\n",
    "        dimension=768,  # Adjust dimension as per the embedding model\n",
    "        metric=\"cosine\",\n",
    "        cloud=\"aws\",\n",
    "        region=\"us-east-1\"\n",
    "    )\n",
    "    embedding_model = SentenceTransformer(embedding_model_name)\n",
    "    \n",
    "    # Bulk upload for each subject\n",
    "    for namespace, directory in subject_dirs.items():\n",
    "        print(f\"Uploading files from {directory} to namespace '{namespace}'...\")\n",
    "        bulk_upload_to_pinecone(directory, namespace, index, pc, embedding_model)\n",
    "    # Delete the existing index (if needed)\n",
    "    all_indexes = pc.list_indexes().names()\n",
    "    print(all_indexes)\n",
    "\n",
    "if __name__ == \"__main__\":\n",
    "    main()\n"
   ]
  },
  {
   "cell_type": "code",
   "execution_count": null,
   "metadata": {},
   "outputs": [],
   "source": [
    "all_indexes = pc.list_indexes().names()"
   ]
  },
  {
   "cell_type": "code",
   "execution_count": null,
   "metadata": {},
   "outputs": [],
   "source": []
  }
 ],
 "metadata": {
  "kernelspec": {
   "display_name": "Python 3",
   "language": "python",
   "name": "python3"
  },
  "language_info": {
   "codemirror_mode": {
    "name": "ipython",
    "version": 3
   },
   "file_extension": ".py",
   "mimetype": "text/x-python",
   "name": "python",
   "nbconvert_exporter": "python",
   "pygments_lexer": "ipython3",
   "version": "3.10.2"
  }
 },
 "nbformat": 4,
 "nbformat_minor": 2
}
