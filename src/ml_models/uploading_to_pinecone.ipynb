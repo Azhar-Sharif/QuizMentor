{
 "cells": [
  {
   "cell_type": "code",
   "execution_count": 1,
   "metadata": {},
   "outputs": [
    {
     "name": "stderr",
     "output_type": "stream",
     "text": [
      "C:\\Users\\ssukh\\AppData\\Roaming\\Python\\Python38\\site-packages\\pinecone\\data\\index.py:1: TqdmWarning: IProgress not found. Please update jupyter and ipywidgets. See https://ipywidgets.readthedocs.io/en/stable/user_install.html\n",
      "  from tqdm.autonotebook import tqdm\n"
     ]
    }
   ],
   "source": [
    "import os\n",
    "import json\n",
    "import pinecone\n",
    "from sentence_transformers import SentenceTransformer\n"
   ]
  },
  {
   "cell_type": "code",
   "execution_count": 2,
   "metadata": {},
   "outputs": [],
   "source": [
    "# Initialize Pinecone\n",
    "def initialize_pinecone(api_key, environment):\n",
    "    return Pinecone(api_key=api_key, environment=environment)\n"
   ]
  },
  {
   "cell_type": "code",
   "execution_count": 3,
   "metadata": {},
   "outputs": [],
   "source": [
    "# Create or connect to a Pinecone index\n",
    "def create_or_connect_index(pc, index_name, dimension, metric, cloud, region):\n",
    "    if index_name not in pc.list_indexes().names():\n",
    "        pc.create_index(\n",
    "            name=index_name,\n",
    "            dimension=dimension,\n",
    "            metric=metric,\n",
    "            spec=ServerlessSpec(cloud=cloud, region=region)\n",
    "        )\n",
    "        print(f\"Index '{index_name}' created.\")\n",
    "    else:\n",
    "        print(f\"Index '{index_name}' already exists.\")\n",
    "    return pc.Index(index_name)\n"
   ]
  },
  {
   "cell_type": "code",
   "execution_count": 4,
   "metadata": {},
   "outputs": [],
   "source": [
    "# Generate embeddings using Sentence Transformers\n",
    "def generate_embeddings(model, inputs):\n",
    "    \"\"\"\n",
    "    Generate embeddings using the multi-qa-mpnet-base-dot-v1 model.\n",
    "    :param model: The Sentence Transformer model.\n",
    "    :param inputs: List of input texts.\n",
    "    :return: List of embeddings.\n",
    "    \"\"\"\n",
    "    embeddings = model.encode(inputs, convert_to_tensor=False)\n",
    "    return [{\"values\": embedding.tolist()} for embedding in embeddings]"
   ]
  },
  {
   "cell_type": "code",
   "execution_count": 5,
   "metadata": {},
   "outputs": [],
   "source": [
    "# Upload a single file to Pinecone\n",
    "def upload_file_to_pinecone(file_path, index, pc, model, namespace):\n",
    "    with open(file_path, \"r\", encoding=\"utf-8\") as file:\n",
    "        data = json.load(file)\n",
    "\n",
    "    # Generate embeddings for question_text\n",
    "    inputs = [question[\"question_text\"] for question in data]\n",
    "    embeddings = generate_embeddings(model, inputs)\n",
    "\n",
    "    # Prepare records for Pinecone\n",
    "    records = []\n",
    "    for question, embedding in zip(data, embeddings):\n",
    "        question_img_link = question.get(\"question_img_link\")\n",
    "        if question_img_link is None:\n",
    "            question_img_link = \"\" \n",
    "        record = {\n",
    "            \"id\": f\"{question['topic']}-{question['question_no']}\",\n",
    "            \"values\": embedding[\"values\"],\n",
    "            \"metadata\": {\n",
    "                \"topic\": question[\"topic\"],\n",
    "                \"question_no\": question[\"question_no\"],\n",
    "                \"question_text\": question[\"question_text\"],\n",
    "                \"question_img_link\": question_img_link, \n",
    "                \"options\": question[\"options\"],\n",
    "                \"correct_option\": question[\"correct_option\"]\n",
    "            }\n",
    "        }\n",
    "        records.append(record)\n",
    "\n",
    "    # Upsert records into Pinecone\n",
    "    index.upsert(vectors=records, namespace=namespace)\n",
    "    print(f\"Uploaded {len(records)} records from {file_path} to namespace '{namespace}'.\")\n",
    "\n",
    "# Upload all files in a directory to Pinecone\n",
    "def bulk_upload_to_pinecone(directory, namespace, index, pc, model):\n",
    "    for filename in os.listdir(directory):\n",
    "        if filename.endswith(\".json\"):\n",
    "            file_path = os.path.join(directory, filename)\n",
    "            upload_file_to_pinecone(file_path, index, pc, model, namespace)\n"
   ]
  },
  {
   "cell_type": "code",
   "execution_count": 6,
   "metadata": {},
   "outputs": [
    {
     "ename": "NameError",
     "evalue": "name 'Pinecone' is not defined",
     "output_type": "error",
     "traceback": [
      "\u001b[1;31m---------------------------------------------------------------------------\u001b[0m",
      "\u001b[1;31mNameError\u001b[0m                                 Traceback (most recent call last)",
      "Cell \u001b[1;32mIn[6], line 39\u001b[0m\n\u001b[0;32m     36\u001b[0m     \u001b[38;5;28mprint\u001b[39m(all_indexes)\n\u001b[0;32m     38\u001b[0m \u001b[38;5;28;01mif\u001b[39;00m \u001b[38;5;18m__name__\u001b[39m \u001b[38;5;241m==\u001b[39m \u001b[38;5;124m\"\u001b[39m\u001b[38;5;124m__main__\u001b[39m\u001b[38;5;124m\"\u001b[39m:\n\u001b[1;32m---> 39\u001b[0m     \u001b[43mmain\u001b[49m\u001b[43m(\u001b[49m\u001b[43m)\u001b[49m\n",
      "Cell \u001b[1;32mIn[6], line 17\u001b[0m, in \u001b[0;36mmain\u001b[1;34m()\u001b[0m\n\u001b[0;32m     11\u001b[0m subject_dirs \u001b[38;5;241m=\u001b[39m {\n\u001b[0;32m     12\u001b[0m     \u001b[38;5;124m\"\u001b[39m\u001b[38;5;124mcomputer_organization\u001b[39m\u001b[38;5;124m\"\u001b[39m: \u001b[38;5;124m\"\u001b[39m\u001b[38;5;124mQuizMentor\u001b[39m\u001b[38;5;124m\\\u001b[39m\u001b[38;5;124mdata_for_vectordb\u001b[39m\u001b[38;5;124m\\\u001b[39m\u001b[38;5;124mFinal_Coal_mcqs_data\u001b[39m\u001b[38;5;124m\"\u001b[39m,  \u001b[38;5;66;03m# Replace with actual path\u001b[39;00m\n\u001b[0;32m     13\u001b[0m     \u001b[38;5;66;03m#\"operating_system\": \"D:\\\\fyp\\\\QuizMentor\\\\data_for_vectordb\\\\Final_OS_mcqs_data\"  # Replace with actual path\u001b[39;00m\n\u001b[0;32m     14\u001b[0m }\n\u001b[0;32m     16\u001b[0m \u001b[38;5;66;03m# Initialize Pinecone\u001b[39;00m\n\u001b[1;32m---> 17\u001b[0m pc \u001b[38;5;241m=\u001b[39m \u001b[43minitialize_pinecone\u001b[49m\u001b[43m(\u001b[49m\u001b[43mapi_key\u001b[49m\u001b[38;5;241;43m=\u001b[39;49m\u001b[43mpinecone_api_key\u001b[49m\u001b[43m,\u001b[49m\u001b[43m \u001b[49m\u001b[43menvironment\u001b[49m\u001b[38;5;241;43m=\u001b[39;49m\u001b[43mpinecone_environment\u001b[49m\u001b[43m)\u001b[49m\n\u001b[0;32m     19\u001b[0m \u001b[38;5;66;03m# Create or connect to the Pinecone index\u001b[39;00m\n\u001b[0;32m     20\u001b[0m index \u001b[38;5;241m=\u001b[39m create_or_connect_index(\n\u001b[0;32m     21\u001b[0m     pc\u001b[38;5;241m=\u001b[39mpc,\n\u001b[0;32m     22\u001b[0m     index_name\u001b[38;5;241m=\u001b[39mindex_name,\n\u001b[1;32m   (...)\u001b[0m\n\u001b[0;32m     26\u001b[0m     region\u001b[38;5;241m=\u001b[39m\u001b[38;5;124m\"\u001b[39m\u001b[38;5;124mus-east-1\u001b[39m\u001b[38;5;124m\"\u001b[39m\n\u001b[0;32m     27\u001b[0m )\n",
      "Cell \u001b[1;32mIn[2], line 3\u001b[0m, in \u001b[0;36minitialize_pinecone\u001b[1;34m(api_key, environment)\u001b[0m\n\u001b[0;32m      2\u001b[0m \u001b[38;5;28;01mdef\u001b[39;00m \u001b[38;5;21minitialize_pinecone\u001b[39m(api_key, environment):\n\u001b[1;32m----> 3\u001b[0m     \u001b[38;5;28;01mreturn\u001b[39;00m \u001b[43mPinecone\u001b[49m(api_key\u001b[38;5;241m=\u001b[39mapi_key, environment\u001b[38;5;241m=\u001b[39menvironment)\n",
      "\u001b[1;31mNameError\u001b[0m: name 'Pinecone' is not defined"
     ]
    }
   ],
   "source": [
    "\n",
    "# Main function\n",
    "def main():\n",
    "    # Pinecone credentials\n",
    "    pinecone_api_key = \"pcsk_3CYnJi_TZbGr8CeCcVxAsz4Li7J5n5hNBRqM7PA7k6xGKx7ftNXUYMYUJLJcb3PZrTneH4\"\n",
    "    pinecone_environment = \"us-west1-gcp\"\n",
    "    index_name = \"mcq-index\"\n",
    "    embedding_model_name = \"multi-qa-mpnet-base-dot-v1\"\n",
    "    embedding_dimension = 768  # Dimension for the selected model\n",
    "\n",
    "    # Subject directories and namespaces\n",
    "    subject_dirs = {\n",
    "        \"computer_organization\": \"QuizMentor\\data_for_vectordb\\Final_Coal_mcqs_data\",  # Replace with actual path\n",
    "        #\"operating_system\": \"D:\\\\fyp\\\\QuizMentor\\\\data_for_vectordb\\\\Final_OS_mcqs_data\"  # Replace with actual path\n",
    "    }\n",
    "\n",
    "    # Initialize Pinecone\n",
    "    pc = initialize_pinecone(api_key=pinecone_api_key, environment=pinecone_environment)\n",
    "\n",
    "    # Create or connect to the Pinecone index\n",
    "    index = create_or_connect_index(\n",
    "        pc=pc,\n",
    "        index_name=index_name,\n",
    "        dimension=768,  # Adjust dimension as per the embedding model\n",
    "        metric=\"cosine\",\n",
    "        cloud=\"aws\",\n",
    "        region=\"us-east-1\"\n",
    "    )\n",
    "    embedding_model = SentenceTransformer(embedding_model_name)\n",
    "    \n",
    "    # Bulk upload for each subject\n",
    "    for namespace, directory in subject_dirs.items():\n",
    "        print(f\"Uploading files from {directory} to namespace '{namespace}'...\")\n",
    "        bulk_upload_to_pinecone(directory, namespace, index, pc, embedding_model)\n",
    "    # Delete the existing index (if needed)\n",
    "    all_indexes = pc.list_indexes().names()\n",
    "    print(all_indexes)\n",
    "\n",
    "if __name__ == \"__main__\":\n",
    "    main()\n"
   ]
  },
  {
   "cell_type": "code",
   "execution_count": null,
   "metadata": {},
   "outputs": [
    {
     "ename": "NameError",
     "evalue": "name 'pc' is not defined",
     "output_type": "error",
     "traceback": [
      "\u001b[1;31m---------------------------------------------------------------------------\u001b[0m",
      "\u001b[1;31mNameError\u001b[0m                                 Traceback (most recent call last)",
      "Cell \u001b[1;32mIn[69], line 1\u001b[0m\n\u001b[1;32m----> 1\u001b[0m all_indexes \u001b[38;5;241m=\u001b[39m \u001b[43mpc\u001b[49m\u001b[38;5;241m.\u001b[39mlist_indexes()\u001b[38;5;241m.\u001b[39mnames()\n",
      "\u001b[1;31mNameError\u001b[0m: name 'pc' is not defined"
     ]
    }
   ],
   "source": [
    "all_indexes = pc.list_indexes().names()"
   ]
  },
  {
   "cell_type": "code",
   "execution_count": null,
   "metadata": {},
   "outputs": [
    {
     "ename": "NameError",
     "evalue": "name 'pc' is not defined",
     "output_type": "error",
     "traceback": [
      "\u001b[1;31m---------------------------------------------------------------------------\u001b[0m",
      "\u001b[1;31mNameError\u001b[0m                                 Traceback (most recent call last)",
      "Cell \u001b[1;32mIn[59], line 2\u001b[0m\n\u001b[0;32m      1\u001b[0m \u001b[38;5;66;03m# Delete the existing index (if needed)\u001b[39;00m\n\u001b[1;32m----> 2\u001b[0m \u001b[43mpc\u001b[49m\u001b[38;5;241m.\u001b[39mdelete_index(\u001b[38;5;124m\"\u001b[39m\u001b[38;5;124mmcq-index\u001b[39m\u001b[38;5;124m\"\u001b[39m)\n\u001b[0;32m      4\u001b[0m \u001b[38;5;66;03m# Create a new index with the correct dimension\u001b[39;00m\n\u001b[0;32m      5\u001b[0m pc\u001b[38;5;241m.\u001b[39mcreate_index(\n\u001b[0;32m      6\u001b[0m     name\u001b[38;5;241m=\u001b[39m\u001b[38;5;124m\"\u001b[39m\u001b[38;5;124mmcq-index\u001b[39m\u001b[38;5;124m\"\u001b[39m,\n\u001b[0;32m      7\u001b[0m     dimension\u001b[38;5;241m=\u001b[39m\u001b[38;5;241m768\u001b[39m,  \u001b[38;5;66;03m# Match the embedding model's dimension\u001b[39;00m\n\u001b[0;32m      8\u001b[0m     metric\u001b[38;5;241m=\u001b[39m\u001b[38;5;124m\"\u001b[39m\u001b[38;5;124mcosine\u001b[39m\u001b[38;5;124m\"\u001b[39m\n\u001b[0;32m      9\u001b[0m )\n",
      "\u001b[1;31mNameError\u001b[0m: name 'pc' is not defined"
     ]
    }
   ],
   "source": [
    "# Delete the existing index (if needed)\n",
    "pc.delete_index(\"mcq-index\")\n",
    "\n",
    "# Create a new index with the correct dimension\n",
    "pc.create_index(\n",
    "    name=\"mcq-index\",\n",
    "    dimension=768,  # Match the embedding model's dimension\n",
    "    metric=\"cosine\"\n",
    ")\n"
   ]
  },
  {
   "cell_type": "code",
   "execution_count": null,
   "metadata": {},
   "outputs": [],
   "source": []
  }
 ],
 "metadata": {
  "kernelspec": {
   "display_name": "Python 3",
   "language": "python",
   "name": "python3"
  },
  "language_info": {
   "codemirror_mode": {
    "name": "ipython",
    "version": 3
   },
   "file_extension": ".py",
   "mimetype": "text/x-python",
   "name": "python",
   "nbconvert_exporter": "python",
   "pygments_lexer": "ipython3",
   "version": "3.8.12"
  }
 },
 "nbformat": 4,
 "nbformat_minor": 2
}
