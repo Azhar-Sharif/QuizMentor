{
 "cells": [
  {
   "cell_type": "code",
   "execution_count": 4,
   "metadata": {},
   "outputs": [
    {
     "name": "stdout",
     "output_type": "stream",
     "text": [
      "Email: quizmentor1@gmail.com\n",
      "Password: kpbncqfacetxlhkp\n",
      "✅ Email sent to bsdsf21a017@pucit.edu.pk for Operating Systems\n"
     ]
    }
   ],
   "source": [
    "import smtplib\n",
    "import os\n",
    "from dotenv import load_dotenv\n",
    "from email.mime.text import MIMEText\n",
    "from email.mime.multipart import MIMEMultipart\n",
    "\n",
    "# Load environment variables\n",
    "load_dotenv(\".env\")\n",
    "\n",
    "QUIZMENTOR_EMAIL= \"quizmentor1@gmail.com\"\n",
    "QUIZMENTOR_PASS= \"kpbncqfacetxlhkp\"\n",
    "# Debugging: Check if variables are loaded\n",
    "print(\"Email:\", QUIZMENTOR_EMAIL)\n",
    "print(\"Password:\", QUIZMENTOR_PASS)  # This should not be None!\n",
    "def send_email(course, recipient_email):\n",
    "    msg = MIMEMultipart()\n",
    "    msg[\"From\"] = QUIZMENTOR_EMAIL\n",
    "    msg[\"To\"] = recipient_email\n",
    "    msg[\"Subject\"] = f\"Quiz Assigned: {course}\"\n",
    "\n",
    "    body = f\"\"\"Hello Student,\n",
    "\n",
    "A new quiz for the course **{course}** has been assigned to you. Please check your dashboard to attempt the quiz.\n",
    "\n",
    "Best regards,  \n",
    "QuizMentor Team\"\"\"\n",
    "    \n",
    "    msg.attach(MIMEText(body, \"plain\"))\n",
    "\n",
    "    try:\n",
    "        server = smtplib.SMTP(\"smtp.gmail.com\", 587)\n",
    "        server.starttls()\n",
    "        server.login(QUIZMENTOR_EMAIL, QUIZMENTOR_PASS)\n",
    "        server.sendmail(QUIZMENTOR_EMAIL, recipient_email, msg.as_string())\n",
    "        server.quit()\n",
    "        \n",
    "        print(f\"✅ Email sent to {recipient_email} for {course}\")\n",
    "    except Exception as e:\n",
    "        print(f\"❌ Error sending email: {e}\")\n",
    "\n",
    "if __name__ == \"__main__\":\n",
    "    # Example usage\n",
    "    send_email(\"Operating Systems\", \"bsdsf21a017@pucit.edu.pk\")\n"
   ]
  },
  {
   "cell_type": "code",
   "execution_count": null,
   "metadata": {},
   "outputs": [],
   "source": []
  }
 ],
 "metadata": {
  "kernelspec": {
   "display_name": "Python 3",
   "language": "python",
   "name": "python3"
  },
  "language_info": {
   "codemirror_mode": {
    "name": "ipython",
    "version": 3
   },
   "file_extension": ".py",
   "mimetype": "text/x-python",
   "name": "python",
   "nbconvert_exporter": "python",
   "pygments_lexer": "ipython3",
   "version": "3.8.2"
  }
 },
 "nbformat": 4,
 "nbformat_minor": 2
}
